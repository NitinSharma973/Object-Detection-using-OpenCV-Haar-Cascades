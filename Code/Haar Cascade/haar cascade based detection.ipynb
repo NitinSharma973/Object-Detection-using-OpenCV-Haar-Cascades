{
 "cells": [
  {
   "cell_type": "code",
   "execution_count": 1,
   "id": "dc3fd094",
   "metadata": {},
   "outputs": [
    {
     "name": "stdout",
     "output_type": "stream",
     "text": [
      "press enter to generate report\n",
      "12.0\n",
      "svmem(total=8415662080, available=3041894400, percent=63.9, used=5373767680, free=3041894400)\n",
      "memory % used: 63.9\n"
     ]
    }
   ],
   "source": [
    "import cv2\n",
    "import imutils\n",
    "from win32com.client import Dispatch\n",
    "import psutil\n",
    "\n",
    "\n",
    "speak = Dispatch( \"SAPI.SpVoice\" ).Speak\n",
    "\n",
    "cascade_declaration = cv2.CascadeClassifier( 'cascade.xml' )\n",
    "camera = cv2.VideoCapture( 0 )\n",
    "\n",
    "firstFrame = None\n",
    "obj_exist = False\n",
    "\n",
    "while True:\n",
    "\n",
    "\tret, frame = camera.read( )\n",
    "\n",
    "\tframe = imutils.resize( frame, width=500 )\n",
    "\tgray = cv2.cvtColor( frame, cv2.COLOR_BGR2GRAY )\n",
    "\n",
    "\tobj = cascade_declaration.detectMultiScale( gray, 1.3, 35, minSize=(20, 20) )\n",
    "\n",
    "\tif len( obj ) > 0:\n",
    "\t\tobj_exist = True\n",
    "\n",
    "\tfor (x, y, w, h) in obj:\n",
    "\t\tframe = cv2.rectangle( frame, (x, y), (x + w, y + h), (255, 0, 100), 2 )\n",
    "        \n",
    "                    \n",
    "\t\troi_gray = gray[y:y + h, x:x + w]\n",
    "\t\troi_color = frame[y:y + h, x:x + w]\n",
    "\n",
    "\tif firstFrame is None:\n",
    "\t\tfirstFrame = gray\n",
    "\t\tcontinue\n",
    "\n",
    "\tcv2.imshow( \"output\", frame )\n",
    "\tkey = cv2.waitKey( 1 ) & 0xFF\n",
    "\tif key == ord( ' ' ):\n",
    "\t\tbreak\n",
    "speck=input('press enter to generate report')\n",
    "\n",
    "if obj_exist:\n",
    "\t\tspeak( \"gun   detected\" )\n",
    "else:\n",
    "\tspeak( \"gun Not detected\" )\n",
    "\n",
    "camera.release( )\n",
    "cv2.destroyAllWindows( )\n",
    "print(psutil.cpu_percent())\n",
    "print(psutil.virtual_memory())  # physical memory usage\n",
    "print('memory % used:', psutil.virtual_memory()[2])"
   ]
  },
  {
   "cell_type": "code",
   "execution_count": null,
   "id": "1937ec35",
   "metadata": {},
   "outputs": [],
   "source": []
  },
  {
   "cell_type": "code",
   "execution_count": null,
   "id": "33e449e6",
   "metadata": {},
   "outputs": [],
   "source": []
  },
  {
   "cell_type": "code",
   "execution_count": null,
   "id": "7585e8d7",
   "metadata": {},
   "outputs": [],
   "source": []
  },
  {
   "cell_type": "code",
   "execution_count": null,
   "id": "0b8311fd",
   "metadata": {},
   "outputs": [],
   "source": []
  }
 ],
 "metadata": {
  "kernelspec": {
   "display_name": "Python 3",
   "language": "python",
   "name": "python3"
  },
  "language_info": {
   "codemirror_mode": {
    "name": "ipython",
    "version": 3
   },
   "file_extension": ".py",
   "mimetype": "text/x-python",
   "name": "python",
   "nbconvert_exporter": "python",
   "pygments_lexer": "ipython3",
   "version": "3.8.8"
  }
 },
 "nbformat": 4,
 "nbformat_minor": 5
}
